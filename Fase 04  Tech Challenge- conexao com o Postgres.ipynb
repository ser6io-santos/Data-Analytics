{
 "cells": [
  {
   "cell_type": "markdown",
   "metadata": {},
   "source": [
    "## Análise de Negócios\n",
    "### Analise dos dados de preço do petróleo brent"
   ]
  },
  {
   "cell_type": "markdown",
   "metadata": {},
   "source": [
    "<img src = 'preco_Petroleo.png'>"
   ]
  },
  {
   "cell_type": "markdown",
   "metadata": {},
   "source": [
    "### Fomos contratado para uma consultoria, e nosso trabalho foi analisar os dados de preço do petróleo brent, para construir um dashboard.\n",
    "\n",
    "<br/>\n",
    "A solicitação do nosso cliente, foi que desenvolvessemos um dashboard interativo e que gere insights relevantes para tomada de decisão. <br/>\n",
    "\n",
    "<br/>\n",
    "Além disso, solicitou que fosse desenvolvido um modelo de Machine Learning para fazer o forecasting do preço do petróleo.<br/>\n",
    "\n",
    "1 - Trabalhamos com Dados Existentes no site do ipea <br/>\n",
    "link: http://www.ipeadata.gov.br/ExibeSerie.aspx?module=m&serid=1650971490&oper=view <br/>\n"
   ]
  },
  {
   "cell_type": "code",
   "execution_count": null,
   "metadata": {},
   "outputs": [
    {
     "data": {
      "text/plain": [
       "'\\nCREATE TABLE anp.preco_combustivel(\\n\\t\\tregiao \\t\\t\\t\\tvarchar(255)\\n\\t\\t,estado\\t\\t\\t\\tvarchar(255)\\n\\t\\t,municipio\\t\\t\\tvarchar(255)\\n\\t\\t,revenda\\t\\t\\tvarchar(255)\\n\\t\\t,cnpj\\t\\t\\t\\tvarchar(255)\\n\\t\\t,nome_rua\\t\\t\\tvarchar(255)\\t\\n\\t\\t,numero_rua\\t\\t\\tvarchar(255)\\n\\t\\t,complemento\\t\\tvarchar(255)\\n\\t\\t,bairro\\t\\t\\t\\tvarchar(255)\\n\\t\\t,cep\\t\\t\\t\\tvarchar(255)\\n\\t\\t,produto\\t\\t\\tvarchar(255)\\n\\t\\t,data_coleta\\t\\tdate\\n\\t\\t,valor_venda\\t\\tfloat\\n\\t\\t,unidade_medida\\t\\tvarchar(255)\\n\\t\\t,bandeira\\t\\t\\tvarchar(255)\\n\\n)\\n'"
      ]
     },
     "execution_count": 12,
     "metadata": {},
     "output_type": "execute_result"
    }
   ],
   "source": [
    "\"\"\"\n",
    "CREATE TABLE anp.preco_petroleo(\n",
    "\t\t data_\t\t\tdate\n",
    "\t\t,Preco_\t\t\tfloat\n",
    "\t\t\n",
    ")\n",
    "\"\"\""
   ]
  },
  {
   "cell_type": "markdown",
   "metadata": {},
   "source": [
    "<img src = 'PostgreSQL-logo.png'>\n",
    "<img src = 'postgre1.png'>"
   ]
  },
  {
   "cell_type": "markdown",
   "metadata": {},
   "source": [
    "3 - Utilizar esses dados para as nossas análises <br/>"
   ]
  },
  {
   "cell_type": "markdown",
   "metadata": {},
   "source": [
    "Instalando as bibliotecas"
   ]
  },
  {
   "cell_type": "code",
   "execution_count": 15,
   "metadata": {},
   "outputs": [
    {
     "name": "stdout",
     "output_type": "stream",
     "text": [
      "Requirement already satisfied: pandas in c:\\users\\sergio\\appdata\\local\\programs\\python\\python312\\lib\\site-packages (2.2.0)\n",
      "Requirement already satisfied: numpy<2,>=1.26.0 in c:\\users\\sergio\\appdata\\local\\programs\\python\\python312\\lib\\site-packages (from pandas) (1.26.3)\n",
      "Requirement already satisfied: python-dateutil>=2.8.2 in c:\\users\\sergio\\appdata\\local\\programs\\python\\python312\\lib\\site-packages (from pandas) (2.8.2)\n",
      "Requirement already satisfied: pytz>=2020.1 in c:\\users\\sergio\\appdata\\local\\programs\\python\\python312\\lib\\site-packages (from pandas) (2023.3.post1)\n",
      "Requirement already satisfied: tzdata>=2022.7 in c:\\users\\sergio\\appdata\\local\\programs\\python\\python312\\lib\\site-packages (from pandas) (2023.4)\n",
      "Requirement already satisfied: six>=1.5 in c:\\users\\sergio\\appdata\\local\\programs\\python\\python312\\lib\\site-packages (from python-dateutil>=2.8.2->pandas) (1.16.0)\n",
      "Note: you may need to restart the kernel to use updated packages.\n"
     ]
    },
    {
     "name": "stderr",
     "output_type": "stream",
     "text": [
      "\n",
      "[notice] A new release of pip is available: 23.2.1 -> 24.0\n",
      "[notice] To update, run: python.exe -m pip install --upgrade pip\n"
     ]
    }
   ],
   "source": [
    "pip install pandas"
   ]
  },
  {
   "cell_type": "code",
   "execution_count": 16,
   "metadata": {},
   "outputs": [
    {
     "name": "stdout",
     "output_type": "stream",
     "text": [
      "Requirement already satisfied: psycopg2 in c:\\users\\sergio\\appdata\\local\\programs\\python\\python312\\lib\\site-packages (2.9.9)Note: you may need to restart the kernel to use updated packages.\n",
      "\n"
     ]
    },
    {
     "name": "stderr",
     "output_type": "stream",
     "text": [
      "\n",
      "[notice] A new release of pip is available: 23.2.1 -> 24.0\n",
      "[notice] To update, run: python.exe -m pip install --upgrade pip\n"
     ]
    }
   ],
   "source": [
    "pip install psycopg2"
   ]
  },
  {
   "cell_type": "code",
   "execution_count": 17,
   "metadata": {},
   "outputs": [
    {
     "name": "stderr",
     "output_type": "stream",
     "text": [
      "C:\\Users\\Sergio\\AppData\\Local\\Temp\\ipykernel_14908\\4080736814.py:1: DeprecationWarning: \n",
      "Pyarrow will become a required dependency of pandas in the next major release of pandas (pandas 3.0),\n",
      "(to allow more performant data types, such as the Arrow string type, and better interoperability with other libraries)\n",
      "but was not found to be installed on your system.\n",
      "If this would cause problems for you,\n",
      "please provide us feedback at https://github.com/pandas-dev/pandas/issues/54466\n",
      "        \n",
      "  import pandas as pd\n"
     ]
    }
   ],
   "source": [
    "import pandas as pd"
   ]
  },
  {
   "cell_type": "code",
   "execution_count": 18,
   "metadata": {},
   "outputs": [
    {
     "name": "stderr",
     "output_type": "stream",
     "text": [
      "C:\\Users\\Sergio\\AppData\\Local\\Temp\\ipykernel_14908\\2000270153.py:23: FutureWarning: Passing literal html to 'read_html' is deprecated and will be removed in a future version. To read from a literal string, wrap it in a 'StringIO' object.\n",
      "  df = pd.read_html(str(table),skiprows=0)[0]\n"
     ]
    }
   ],
   "source": [
    "#Importando as Bibliotecas\n",
    "\n",
    "import requests                   #Para acessar a URL\n",
    "from bs4 import BeautifulSoup     #Para acessar o HTML\n",
    "import pandas as pd\n",
    "\n",
    "# URL do site IPEADATA\n",
    "url = 'http://www.ipeadata.gov.br/ExibeSerie.aspx?module=m&serid=1650971490&oper=view'\n",
    "\n",
    "# Faz uma requisicăo GET ao site e captura a resposta\n",
    "response = requests.get(url)\n",
    "\n",
    "# Verifica se a requisição foi bem sucedida\n",
    "if response.status_code == 200:\n",
    "    # Cria um objeto BeautifulSoup para analisar o HTML\n",
    "    soup = BeautifulSoup(response.text, 'html.parser')\n",
    "\n",
    "    # Procura pela tabela no HTML analisado (o id ou classe pode variar)\n",
    "    # Inspecionar o HTML para obter o seletor correto\n",
    "    table = soup.find('table', {'id': 'grd_DXMainTable'})\n",
    "\n",
    "    # Usa ○ pandas para ler a tabela HTML diretamente para um DataFrane\n",
    "    df = pd.read_html(str(table),skiprows=0)[0]\n",
    "\n",
    "    df.columns = df.iloc[0]\n",
    "    df = df.drop(0)\n",
    "\n",
    "   # Mostra as primeiras linhas do DataFrame\n",
    "    df.head()\n",
    "else:\n",
    "      print('Falha ao acessar a página: Status Code', response.status_code)\n"
   ]
  },
  {
   "cell_type": "markdown",
   "metadata": {},
   "source": [
    "1.1 - **Entendimento dos Dados:** \n",
    "Os preços de petróleo se estende de 1987 até 2024. É importante notar que esta série temporal é bastante longa, o que significa que ela pode conter várias tendências, sazonalidades e ciclos econômicos."
   ]
  },
  {
   "cell_type": "code",
   "execution_count": 19,
   "metadata": {},
   "outputs": [
    {
     "data": {
      "text/html": [
       "<div>\n",
       "<style scoped>\n",
       "    .dataframe tbody tr th:only-of-type {\n",
       "        vertical-align: middle;\n",
       "    }\n",
       "\n",
       "    .dataframe tbody tr th {\n",
       "        vertical-align: top;\n",
       "    }\n",
       "\n",
       "    .dataframe thead th {\n",
       "        text-align: right;\n",
       "    }\n",
       "</style>\n",
       "<table border=\"1\" class=\"dataframe\">\n",
       "  <thead>\n",
       "    <tr style=\"text-align: right;\">\n",
       "      <th></th>\n",
       "      <th>Data</th>\n",
       "      <th>Preço - petróleo bruto - Brent (FOB)</th>\n",
       "    </tr>\n",
       "  </thead>\n",
       "  <tbody>\n",
       "    <tr>\n",
       "      <th>1</th>\n",
       "      <td>12/02/2024</td>\n",
       "      <td>8388</td>\n",
       "    </tr>\n",
       "    <tr>\n",
       "      <th>2</th>\n",
       "      <td>09/02/2024</td>\n",
       "      <td>8358</td>\n",
       "    </tr>\n",
       "    <tr>\n",
       "      <th>3</th>\n",
       "      <td>08/02/2024</td>\n",
       "      <td>8301</td>\n",
       "    </tr>\n",
       "    <tr>\n",
       "      <th>4</th>\n",
       "      <td>07/02/2024</td>\n",
       "      <td>8118</td>\n",
       "    </tr>\n",
       "    <tr>\n",
       "      <th>5</th>\n",
       "      <td>06/02/2024</td>\n",
       "      <td>8046</td>\n",
       "    </tr>\n",
       "    <tr>\n",
       "      <th>...</th>\n",
       "      <td>...</td>\n",
       "      <td>...</td>\n",
       "    </tr>\n",
       "    <tr>\n",
       "      <th>11103</th>\n",
       "      <td>26/05/1987</td>\n",
       "      <td>1863</td>\n",
       "    </tr>\n",
       "    <tr>\n",
       "      <th>11104</th>\n",
       "      <td>25/05/1987</td>\n",
       "      <td>1860</td>\n",
       "    </tr>\n",
       "    <tr>\n",
       "      <th>11105</th>\n",
       "      <td>22/05/1987</td>\n",
       "      <td>1855</td>\n",
       "    </tr>\n",
       "    <tr>\n",
       "      <th>11106</th>\n",
       "      <td>21/05/1987</td>\n",
       "      <td>1845</td>\n",
       "    </tr>\n",
       "    <tr>\n",
       "      <th>11107</th>\n",
       "      <td>20/05/1987</td>\n",
       "      <td>1863</td>\n",
       "    </tr>\n",
       "  </tbody>\n",
       "</table>\n",
       "<p>11107 rows × 2 columns</p>\n",
       "</div>"
      ],
      "text/plain": [
       "0            Data Preço - petróleo bruto - Brent (FOB)\n",
       "1      12/02/2024                                 8388\n",
       "2      09/02/2024                                 8358\n",
       "3      08/02/2024                                 8301\n",
       "4      07/02/2024                                 8118\n",
       "5      06/02/2024                                 8046\n",
       "...           ...                                  ...\n",
       "11103  26/05/1987                                 1863\n",
       "11104  25/05/1987                                 1860\n",
       "11105  22/05/1987                                 1855\n",
       "11106  21/05/1987                                 1845\n",
       "11107  20/05/1987                                 1863\n",
       "\n",
       "[11107 rows x 2 columns]"
      ]
     },
     "execution_count": 19,
     "metadata": {},
     "output_type": "execute_result"
    }
   ],
   "source": [
    "df"
   ]
  },
  {
   "cell_type": "code",
   "execution_count": 37,
   "metadata": {},
   "outputs": [],
   "source": [
    "# Renomear a coluna 'Preço - petróleo bruto - Brent (FOB)' para 'Preco'\n",
    "df = df.rename(columns={'Preço - petróleo bruto - Brent (FOB)': 'preco'})\n",
    "df = df.rename(columns={'Data': 'data'})"
   ]
  },
  {
   "cell_type": "code",
   "execution_count": 38,
   "metadata": {},
   "outputs": [
    {
     "name": "stdout",
     "output_type": "stream",
     "text": [
      "<class 'pandas.core.frame.DataFrame'>\n",
      "Index: 11107 entries, 11107 to 1\n",
      "Data columns (total 2 columns):\n",
      " #   Column  Non-Null Count  Dtype         \n",
      "---  ------  --------------  -----         \n",
      " 0   data_   11107 non-null  datetime64[ns]\n",
      " 1   preco_  11107 non-null  object        \n",
      "dtypes: datetime64[ns](1), object(1)\n",
      "memory usage: 260.3+ KB\n"
     ]
    }
   ],
   "source": [
    "df.info()"
   ]
  },
  {
   "cell_type": "markdown",
   "metadata": {},
   "source": [
    "1.2 - **Pré-processamento dos Dados:** As datas devem ser tratadas como objetos de data/tempo e os preços como valores numéricos."
   ]
  },
  {
   "cell_type": "code",
   "execution_count": 40,
   "metadata": {},
   "outputs": [],
   "source": [
    "# Converte a coluna 'Data' para datetime\n",
    "\n",
    "df['data_'] = pd.to_datetime(df['data_'], format='%d/%m/%Y')\n",
    "# Ordenar o DataFrame pela coluna 'Data' de forma ascendente\n",
    "df = df.sort_values(by='data_', ascending=True)\n",
    "\n",
    "# Em seguida, divida a coluna 'Preço - petróleo bruto - Brent (FOB)' por 100\n",
    "df['preco_'] = df['preco_'].astype(float).round(2)/ 100"
   ]
  },
  {
   "cell_type": "code",
   "execution_count": 41,
   "metadata": {},
   "outputs": [],
   "source": [
    "import pandas.io.sql as sqlio"
   ]
  },
  {
   "cell_type": "code",
   "execution_count": 42,
   "metadata": {},
   "outputs": [],
   "source": [
    "import psycopg2 as ps"
   ]
  },
  {
   "cell_type": "code",
   "execution_count": 43,
   "metadata": {},
   "outputs": [],
   "source": [
    "conn = ps.connect(dbname='ANP',\n",
    "                  user='postgres',\n",
    "                  password='postgres',\n",
    "                  host='localhost',\n",
    "                  port='5432')\n"
   ]
  },
  {
   "cell_type": "code",
   "execution_count": 44,
   "metadata": {},
   "outputs": [],
   "source": [
    "cursor = conn.cursor()\n",
    "\n",
    "create_table_query = '''\n",
    "CREATE TABLE IF NOT EXISTS preco_petroleo (\n",
    "    Data DATE,\n",
    "    Preco float\n",
    ");\n",
    "'''\n",
    "cursor.execute(create_table_query)\n",
    "conn.commit()\n"
   ]
  },
  {
   "cell_type": "code",
   "execution_count": 45,
   "metadata": {},
   "outputs": [],
   "source": [
    "import io\n",
    "\n",
    "# Copie o DataFrame para um buffer de texto\n",
    "buffer = io.StringIO()\n",
    "df.to_csv(buffer, index=False, header=False)\n",
    "buffer.seek(0)\n",
    "\n",
    "# Use a conexão para copiar os dados do buffer para a tabela\n",
    "with conn.cursor() as cursor:\n",
    "    cursor.copy_from(buffer, 'preco_petroleo', sep=',')\n",
    "    conn.commit()\n"
   ]
  },
  {
   "cell_type": "code",
   "execution_count": 46,
   "metadata": {},
   "outputs": [],
   "source": [
    "cursor.close()\n",
    "conn.close()\n"
   ]
  },
  {
   "cell_type": "code",
   "execution_count": 47,
   "metadata": {},
   "outputs": [
    {
     "data": {
      "text/html": [
       "<div>\n",
       "<style scoped>\n",
       "    .dataframe tbody tr th:only-of-type {\n",
       "        vertical-align: middle;\n",
       "    }\n",
       "\n",
       "    .dataframe tbody tr th {\n",
       "        vertical-align: top;\n",
       "    }\n",
       "\n",
       "    .dataframe thead th {\n",
       "        text-align: right;\n",
       "    }\n",
       "</style>\n",
       "<table border=\"1\" class=\"dataframe\">\n",
       "  <thead>\n",
       "    <tr style=\"text-align: right;\">\n",
       "      <th></th>\n",
       "      <th>data_</th>\n",
       "      <th>preco_</th>\n",
       "    </tr>\n",
       "  </thead>\n",
       "  <tbody>\n",
       "    <tr>\n",
       "      <th>11107</th>\n",
       "      <td>1987-05-20</td>\n",
       "      <td>18.63</td>\n",
       "    </tr>\n",
       "    <tr>\n",
       "      <th>11106</th>\n",
       "      <td>1987-05-21</td>\n",
       "      <td>18.45</td>\n",
       "    </tr>\n",
       "    <tr>\n",
       "      <th>11105</th>\n",
       "      <td>1987-05-22</td>\n",
       "      <td>18.55</td>\n",
       "    </tr>\n",
       "    <tr>\n",
       "      <th>11104</th>\n",
       "      <td>1987-05-25</td>\n",
       "      <td>18.60</td>\n",
       "    </tr>\n",
       "    <tr>\n",
       "      <th>11103</th>\n",
       "      <td>1987-05-26</td>\n",
       "      <td>18.63</td>\n",
       "    </tr>\n",
       "  </tbody>\n",
       "</table>\n",
       "</div>"
      ],
      "text/plain": [
       "0          data_  preco_\n",
       "11107 1987-05-20   18.63\n",
       "11106 1987-05-21   18.45\n",
       "11105 1987-05-22   18.55\n",
       "11104 1987-05-25   18.60\n",
       "11103 1987-05-26   18.63"
      ]
     },
     "execution_count": 47,
     "metadata": {},
     "output_type": "execute_result"
    }
   ],
   "source": [
    "df.head()"
   ]
  },
  {
   "cell_type": "code",
   "execution_count": 48,
   "metadata": {},
   "outputs": [
    {
     "name": "stdout",
     "output_type": "stream",
     "text": [
      "<class 'pandas.core.frame.DataFrame'>\n",
      "Index: 11107 entries, 11107 to 1\n",
      "Data columns (total 2 columns):\n",
      " #   Column  Non-Null Count  Dtype         \n",
      "---  ------  --------------  -----         \n",
      " 0   data_   11107 non-null  datetime64[ns]\n",
      " 1   preco_  11107 non-null  float64       \n",
      "dtypes: datetime64[ns](1), float64(1)\n",
      "memory usage: 260.3 KB\n"
     ]
    }
   ],
   "source": [
    "df.info()"
   ]
  },
  {
   "cell_type": "code",
   "execution_count": 49,
   "metadata": {},
   "outputs": [
    {
     "data": {
      "text/plain": [
       "(11107, 2)"
      ]
     },
     "execution_count": 49,
     "metadata": {},
     "output_type": "execute_result"
    }
   ],
   "source": [
    "df.shape"
   ]
  }
 ],
 "metadata": {
  "kernelspec": {
   "display_name": "Python 3.9.12 64-bit",
   "language": "python",
   "name": "python3"
  },
  "language_info": {
   "codemirror_mode": {
    "name": "ipython",
    "version": 3
   },
   "file_extension": ".py",
   "mimetype": "text/x-python",
   "name": "python",
   "nbconvert_exporter": "python",
   "pygments_lexer": "ipython3",
   "version": "3.12.1"
  },
  "orig_nbformat": 4,
  "vscode": {
   "interpreter": {
    "hash": "8682c474af1cf416eccb63a411a7c81c15a3947ae2d19cb89592b512035f24d4"
   }
  }
 },
 "nbformat": 4,
 "nbformat_minor": 2
}
